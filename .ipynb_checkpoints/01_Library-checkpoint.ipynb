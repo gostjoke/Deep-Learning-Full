{
 "cells": [
  {
   "cell_type": "markdown",
   "metadata": {},
   "source": [
    "# 01 Library\n"
   ]
  },
  {
   "cell_type": "raw",
   "metadata": {},
   "source": [
    "### pytroch\n",
    "#@save \n",
    "import numpy as np\n",
    "import torch\n",
    "import torchvision\n",
    "from PIL import Image\n",
    "from torch import nn\n",
    "from torch.nn import functional as F\n",
    "from torch.utils import data\n",
    "from torchvision import transforms"
   ]
  },
  {
   "cell_type": "markdown",
   "metadata": {},
   "source": [
    "## d21"
   ]
  },
  {
   "cell_type": "raw",
   "metadata": {},
   "source": [
    "#@save\n",
    "import collections\n",
    "import hashlib\n",
    "import math\n",
    "import os\n",
    "import random\n",
    "import re\n",
    "import shutil\n",
    "import sys\n",
    "import tarfile\n",
    "import time\n",
    "import zipfile\n",
    "from collections import defaultdict\n",
    "import pandas as pd\n",
    "import requests\n",
    "from IPython import display\n",
    "from matplotlib import pyplot as plt\n",
    "from matplotlib_inline import backend_inline\n",
    "d2l = sys.modules[__name__]"
   ]
  },
  {
   "cell_type": "raw",
   "metadata": {},
   "source": [
    "数字\n",
    "• x：标量\n",
    "• x：向量\n",
    "• X：矩阵\n",
    "• X：张量\n",
    "• I：单位矩阵\n",
    "• xi, [x]i：向量x第i个元素\n",
    "• xij , [X]ij：矩阵X第i行第j列的元素\n",
    "集合论\n",
    "• X : 集合\n",
    "• Z: 整数集合\n",
    "• R: 实数集合\n",
    "• R\n",
    "n: n维实数向量集合\n",
    "• R\n",
    "a×b\n",
    ": 包含a行和b列的实数矩阵集合\n",
    "• A ∪ B: 集合A和B的并集\n",
    "13\n",
    "• A ∩ B：集合A和B的交集\n",
    "• A \\ B：集合A与集合B相减，B关于A的相对补集\n",
    "函数和运算符\n",
    "• f(·)：函数\n",
    "• log(·)：自然对数\n",
    "• exp(·): 指数函数\n",
    "• 1X : 指示函数\n",
    "• (·)\n",
    "⊤\n",
    ": 向量或矩阵的转置\n",
    "• X\n",
    "−1\n",
    ": 矩阵的逆\n",
    "• ⊙: 按元素相乘\n",
    "• [·, ·]：连结\n",
    "• |X |：集合的基数\n",
    "• ∥ · ∥p: ：Lp 正则\n",
    "• ∥ · ∥: L2 正则\n",
    "• ⟨x, y⟩：向量x和y的点积\n",
    "•\n",
    "P: 连加\n",
    "•\n",
    "Q\n",
    ": 连乘\n",
    "•\n",
    "def =：定义\n",
    "微积分\n",
    "•\n",
    "dy\n",
    "dx：y关于x的导数\n",
    "•\n",
    "∂y\n",
    "∂x：y关于x的偏导数\n",
    "• ∇xy：y关于x的梯度\n",
    "•\n",
    "R b\n",
    "a\n",
    "f(x) dx: f在a到b区间上关于x的定积分\n",
    "•\n",
    "R\n",
    "f(x) dx: f关于x的不定积分\n",
    "14 目录\n",
    "概率与信息论\n",
    "• P(·)：概率分布\n",
    "• z ∼ P: 随机变量z具有概率分布P\n",
    "• P(X | Y )：X | Y 的条件概率\n",
    "• p(x): 概率密度函数\n",
    "• Ex[f(x)]: 函数f对x的数学期望\n",
    "• X ⊥ Y : 随机变量X和Y 是独立的\n",
    "• X ⊥ Y | Z: 随机变量X和Y 在给定随机变量Z的条件下是独立的\n",
    "• Var(X): 随机变量X的方差\n",
    "• σX: 随机变量X的标准差\n",
    "• Cov(X, Y ): 随机变量X和Y 的协方差\n",
    "• ρ(X, Y ): 随机变量X和Y 的相关性\n",
    "• H(X): 随机变量X的熵\n",
    "• DKL(P∥Q): P和Q的KL‐散度\n",
    "复杂度\n",
    "• O：大O标记"
   ]
  }
 ],
 "metadata": {
  "kernelspec": {
   "display_name": "Python 3 (ipykernel)",
   "language": "python",
   "name": "python3"
  },
  "language_info": {
   "codemirror_mode": {
    "name": "ipython",
    "version": 3
   },
   "file_extension": ".py",
   "mimetype": "text/x-python",
   "name": "python",
   "nbconvert_exporter": "python",
   "pygments_lexer": "ipython3",
   "version": "3.10.9"
  },
  "toc": {
   "base_numbering": 1,
   "nav_menu": {},
   "number_sections": true,
   "sideBar": true,
   "skip_h1_title": false,
   "title_cell": "Table of Contents",
   "title_sidebar": "Contents",
   "toc_cell": false,
   "toc_position": {},
   "toc_section_display": true,
   "toc_window_display": false
  },
  "varInspector": {
   "cols": {
    "lenName": 16,
    "lenType": 16,
    "lenVar": 40
   },
   "kernels_config": {
    "python": {
     "delete_cmd_postfix": "",
     "delete_cmd_prefix": "del ",
     "library": "var_list.py",
     "varRefreshCmd": "print(var_dic_list())"
    },
    "r": {
     "delete_cmd_postfix": ") ",
     "delete_cmd_prefix": "rm(",
     "library": "var_list.r",
     "varRefreshCmd": "cat(var_dic_list()) "
    }
   },
   "types_to_exclude": [
    "module",
    "function",
    "builtin_function_or_method",
    "instance",
    "_Feature"
   ],
   "window_display": false
  }
 },
 "nbformat": 4,
 "nbformat_minor": 2
}
